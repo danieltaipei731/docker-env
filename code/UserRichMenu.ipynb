{
 "cells": [
  {
   "cell_type": "code",
   "execution_count": 1,
   "metadata": {},
   "outputs": [],
   "source": [
    "menuRawData=\"\"\"\n",
    "{\n",
    "  \"size\": {\n",
    "    \"width\": 2500,\n",
    "    \"height\": 1686\n",
    "  },\n",
    "  \"selected\": true,\n",
    "  \"name\": \"圖文選單\",\n",
    "  \"chatBarText\": \"查看更多資訊\",\n",
    "  \"areas\": [\n",
    "    {\n",
    "      \"bounds\": {\n",
    "        \"x\": 59,\n",
    "        \"y\": 140,\n",
    "        \"width\": 721,\n",
    "        \"height\": 580\n",
    "      },\n",
    "      \"action\": {\n",
    "        \"type\": \"message\",\n",
    "        \"text\": \"[::text:]食譜搜尋\"\n",
    "      }\n",
    "    },\n",
    "    {\n",
    "      \"bounds\": {\n",
    "        \"x\": 898,\n",
    "        \"y\": 148,\n",
    "        \"width\": 687,\n",
    "        \"height\": 572\n",
    "      },\n",
    "      \"action\": {\n",
    "        \"type\": \"message\",\n",
    "        \"text\": \"[::text:]食材搜尋\"\n",
    "      }\n",
    "    },\n",
    "    {\n",
    "      \"bounds\": {\n",
    "        \"x\": 1653,\n",
    "        \"y\": 153,\n",
    "        \"width\": 839,\n",
    "        \"height\": 567\n",
    "      },\n",
    "      \"action\": {\n",
    "        \"type\": \"message\",\n",
    "        \"text\": \"[::text:]上傳食材圖片\"\n",
    "      }\n",
    "    },\n",
    "    {\n",
    "      \"bounds\": {\n",
    "        \"x\": 59,\n",
    "        \"y\": 784,\n",
    "        \"width\": 725,\n",
    "        \"height\": 318\n",
    "      },\n",
    "      \"action\": {\n",
    "        \"type\": \"message\",\n",
    "        \"text\": \"[::text:]食材替換\"\n",
    "      }\n",
    "    },\n",
    "    {\n",
    "      \"bounds\": {\n",
    "        \"x\": 932,\n",
    "        \"y\": 788,\n",
    "        \"width\": 649,\n",
    "        \"height\": 326\n",
    "      },\n",
    "      \"action\": {\n",
    "        \"type\": \"message\",\n",
    "        \"text\": \"[::text:]熱門食譜\"\n",
    "      }\n",
    "    },\n",
    "    {\n",
    "      \"bounds\": {\n",
    "        \"x\": 1708,\n",
    "        \"y\": 775,\n",
    "        \"width\": 762,\n",
    "        \"height\": 335\n",
    "      },\n",
    "      \"action\": {\n",
    "        \"type\": \"message\",\n",
    "        \"text\": \"[::text:]問卷填寫\"\n",
    "      }\n",
    "    }\n",
    "  ]\n",
    "}\n",
    "\"\"\""
   ]
  },
  {
   "cell_type": "code",
   "execution_count": 2,
   "metadata": {},
   "outputs": [
    {
     "name": "stdout",
     "output_type": "stream",
     "text": [
      "dF2RR0sjw0KUXzfEPJwkqfFXbrp4x9himJGJLoPlDEeMl4cTsJcZuGLtXiI/v8isgjrlZ451E5oWrsjI3ZCSNsEZ4hgwFOsVM+oc/tVlag5tGrB+/Yj1CiMPGmgEIW+DLYVacNOROPdytEJqVbgezQdB04t89/1O/w1cDnyilFU=\n",
      "45f731ba77eb2f99dd419a633b142ead\n",
      "U7bb89dcc0907df1e44703ae4e9598d95\n"
     ]
    }
   ],
   "source": [
    "'''\n",
    "\n",
    "讀取安全檔案內的字串，以供後續程式碼調用\n",
    "\n",
    "'''\n",
    "import json\n",
    "secretFileContentJson=json.load(open(\"./secretFile.txt\",'r',encoding=\"utf-8\"))\n",
    "\n",
    "print(secretFileContentJson.get(\"channelAccessToken\"))\n",
    "print(secretFileContentJson.get(\"channelSecret\"))\n",
    "print(secretFileContentJson.get(\"userId\"))"
   ]
  },
  {
   "cell_type": "code",
   "execution_count": 3,
   "metadata": {},
   "outputs": [],
   "source": [
    "'''\n",
    "\n",
    "用channel_access_token創建line_bot_api，預備用來跟Line進行溝通\n",
    "\n",
    "'''\n",
    "\n",
    "from linebot import (\n",
    "    LineBotApi, WebhookHandler\n",
    ")\n",
    "\n",
    "line_bot_api = LineBotApi(secretFileContentJson.get(\"channelAccessToken\"))"
   ]
  },
  {
   "cell_type": "code",
   "execution_count": 4,
   "metadata": {},
   "outputs": [
    {
     "name": "stdout",
     "output_type": "stream",
     "text": [
      "richmenu-17b3641ae4f4148604176f4373eebf71\n"
     ]
    }
   ],
   "source": [
    "'''\n",
    "\n",
    "載入前面的圖文選單設定，\n",
    "\n",
    "並要求line_bot_api將圖文選單上傳至Line\n",
    "    \n",
    "\n",
    "'''\n",
    "\n",
    "from linebot.models import RichMenu\n",
    "import requests\n",
    "\n",
    "menuJson=json.loads(menuRawData)\n",
    "\n",
    "lineRichMenuId = line_bot_api.create_rich_menu(rich_menu=RichMenu.new_from_json_dict(menuJson))\n",
    "print(lineRichMenuId)\n"
   ]
  },
  {
   "cell_type": "code",
   "execution_count": 6,
   "metadata": {},
   "outputs": [
    {
     "name": "stdout",
     "output_type": "stream",
     "text": [
      "None\n"
     ]
    }
   ],
   "source": [
    "'''\n",
    "\n",
    "將先前準備的菜單照片，以Post消息寄發給Line\n",
    "\n",
    "    載入照片\n",
    "    要求line_bot_api，將圖片傳到先前的圖文選單id\n",
    "\n",
    "\n",
    "'''\n",
    "\n",
    "\n",
    "uploadImageFile=open(\"./images/圖文選單.jpg\",'rb')\n",
    "\n",
    "setImageResponse = line_bot_api.set_rich_menu_image(lineRichMenuId,'image/jpeg',uploadImageFile)\n",
    "\n",
    "print(setImageResponse)"
   ]
  },
  {
   "cell_type": "code",
   "execution_count": 7,
   "metadata": {},
   "outputs": [
    {
     "name": "stdout",
     "output_type": "stream",
     "text": [
      "None\n"
     ]
    }
   ],
   "source": [
    "'''\n",
    "\n",
    "將選單綁定到特定用戶身上\n",
    "    取出上面得到的菜單Id及用戶id\n",
    "    要求line_bot_api告知Line，將用戶與圖文選單做綁定\n",
    "\n",
    "'''\n",
    "\n",
    "# https://api.line.me/v2/bot/user/{userId}/richmenu/{richMenuId}\n",
    "\n",
    "\n",
    "linkResult=line_bot_api.link_rich_menu_to_user(secretFileContentJson[\"userId\"], lineRichMenuId)\n",
    "\n",
    "print(linkResult)"
   ]
  },
  {
   "cell_type": "code",
   "execution_count": 8,
   "metadata": {},
   "outputs": [
    {
     "name": "stdout",
     "output_type": "stream",
     "text": [
      "richmenu-17b3641ae4f4148604176f4373eebf71\n"
     ]
    }
   ],
   "source": [
    "'''\n",
    "\n",
    "檢視用戶目前所綁定的菜單\n",
    "    取出用戶id，並告知line_bot_api，\n",
    "    line_bot_api傳回用戶所綁定的菜單\n",
    "    印出\n",
    "\n",
    "'''\n",
    "\n",
    "#  https://api.line.me/v2/bot/user/{userId}/richmenu\n",
    "\n",
    "\n",
    "rich_menu_id = line_bot_api.get_rich_menu_id_of_user(secretFileContentJson[\"userId\"])\n",
    "print(rich_menu_id)\n"
   ]
  },
  {
   "cell_type": "code",
   "execution_count": null,
   "metadata": {},
   "outputs": [],
   "source": [
    "'''\n",
    "\n",
    "解除選單與特定用戶的綁定\n",
    "    取出用戶id，並告知line_bot_api，\n",
    "    line_bot_api解除用戶所綁定的菜單\n",
    "'''\n",
    "\n",
    "lineUnregisterUserMenuResponse=line_bot_api.unlink_rich_menu_from_user(secretFileContentJson[\"self_user_id\"])\n",
    "print(lineUnregisterUserMenuResponse)"
   ]
  },
  {
   "cell_type": "code",
   "execution_count": null,
   "metadata": {},
   "outputs": [],
   "source": [
    "'''\n",
    "\n",
    "檢視帳號內，有哪些選單\n",
    "    要求line_bot_api，向line查詢我方的圖文選單列表\n",
    "    打印\n",
    "\n",
    "'''\n",
    "\n",
    "rich_menu_list = line_bot_api.get_rich_menu_list()\n",
    "for rich_menu in rich_menu_list:\n",
    "    print(rich_menu.rich_menu_id)"
   ]
  }
 ],
 "metadata": {
  "kernelspec": {
   "display_name": "Python 3",
   "language": "python",
   "name": "python3"
  },
  "language_info": {
   "codemirror_mode": {
    "name": "ipython",
    "version": 3
   },
   "file_extension": ".py",
   "mimetype": "text/x-python",
   "name": "python",
   "nbconvert_exporter": "python",
   "pygments_lexer": "ipython3",
   "version": "3.8.5"
  }
 },
 "nbformat": 4,
 "nbformat_minor": 4
}
